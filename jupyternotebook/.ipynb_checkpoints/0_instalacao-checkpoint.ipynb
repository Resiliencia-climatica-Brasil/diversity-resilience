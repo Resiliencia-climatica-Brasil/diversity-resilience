{
 "cells": [
  {
   "cell_type": "markdown",
   "id": "4391fc28",
   "metadata": {},
   "source": [
    "# Instalação e ambiente para as análises"
   ]
  },
  {
   "cell_type": "markdown",
   "id": "b3f6dbce",
   "metadata": {},
   "source": [
    "As análises deste tutorial foram rodadas no [*Google Earth Engine* (GEE)](https://earthengine.google.com/) utilizando como interface o pacote **geemap** em *Python*. O tutorial está escrito no *JupyterNotebook*. Dessa forma, para a reprodução das análises é necessário a criação de uma conta no [GEE](https://earthengine.google.com/signup/). Em seguida, instale o [*Python*](https://www.python.org/), se não estiver instalado. Com o *Python* instalado, instale o [*JupyterNotebook*](https://jupyter.org/install). Por fim, instale o pacote [**geemap**](https://geemap.org/installation/).  "
   ]
  },
  {
   "cell_type": "markdown",
   "id": "08e62d4d",
   "metadata": {},
   "source": [
    "Alguns pacotes auxiliares também são usados para produzir e exportar figuras como **os** e **matplotlib**. Escreva na linha de comando os seguintes códigos para instalar:\n"
   ]
  },
  {
   "cell_type": "code",
   "execution_count": 1,
   "id": "e51d7378",
   "metadata": {},
   "outputs": [
    {
     "ename": "SyntaxError",
     "evalue": "invalid syntax (3204789623.py, line 1)",
     "output_type": "error",
     "traceback": [
      "\u001b[0;36m  File \u001b[0;32m\"/tmp/ipykernel_12629/3204789623.py\"\u001b[0;36m, line \u001b[0;32m1\u001b[0m\n\u001b[0;31m    pip install os\u001b[0m\n\u001b[0m        ^\u001b[0m\n\u001b[0;31mSyntaxError\u001b[0m\u001b[0;31m:\u001b[0m invalid syntax\n"
     ]
    }
   ],
   "source": [
    "pip install os\n",
    "\n",
    "pip install matplotlib\n",
    "\n",
    "pip install pyxarray\n",
    "\n",
    "pip install rioxarray "
   ]
  },
  {
   "cell_type": "markdown",
   "id": "c71d1d7e",
   "metadata": {},
   "source": [
    "# Google colab\n",
    "\n",
    "As análises podem ser reproduzidas utilizando o [*Google Colab*](https://colab.google/). Clique em **Open Colab** na parte superior direita da tela.\n",
    "\n",
    "![](figura/colab.png)\n",
    "\n",
    "Em seguida, inclua o endereço do *Github* ([https://github.com/Resiliencia-climatica-Brasil/diversity-resilience-python/tree/master/jupyternotebook](https://github.com/Resiliencia-climatica-Brasil/diversity-resilience-python/tree/master/jupyternotebook)) dos arquivos de *JupyterNotebook* do projeto. Escolha o arquivo para abrir, por exemplo, **1_landforms.ipynb**.\n",
    "\n",
    "![](figura/end.png)\n"
   ]
  },
  {
   "cell_type": "markdown",
   "id": "a3fac2a1",
   "metadata": {},
   "source": [
    "# Bases de dados\n",
    "\n",
    "Os dados utilizados nas análises já estão como *assets* no GEE. No entanto, se o usuário quiser adicionar outras bases de dados nas suas análises, esse [tutorial](https://developers.google.com/earth-engine/guides/asset_manager) ensina como fazer *upload* de arquivos para a sua conta no GEE.\n",
    "\n",
    "## Bases importadas \n",
    "\n",
    "* Arquivo vetorial dos biomas do Brasil produzido pelo [IBGE](http://geoftp.ibge.gov.br/informacoes_ambientais/estudos_ambientais/biomas/vetores/Biomas_250mil.zip).\n",
    "\n",
    "[https://code.earthengine.google.com/?asset=projects/ee-lucasljardim9/assets/Biome](https://code.earthengine.google.com/?asset=projects/ee-lucasljardim9/assets/Biome).\n",
    "\n",
    "* Arquivo matricial com a classificação de áreas úmidas global produzido pelo *Sustainable Wetlands Adaptation and Mitigation Program ( SWAMP )*, *Center for International Forestry Research (CIFOR)* e *United States Forest Service*.\n",
    "\n",
    "[https://code.earthengine.google.com/?asset=projects/ee-lucasljardim9/assets/Cifor_wetlands](https://code.earthengine.google.com/?asset=projects/ee-lucasljardim9/assets/Cifor_wetlands).\n",
    "\n",
    "* Arquivo vetorial de pedologia do Brasil produzido pelo [IBGE](https://geoftp.ibge.gov.br/informacoes_ambientais/pedologia/vetores/escala_250_mil/versao_2023/pedo_area.zip). \n",
    "\n",
    "[https://code.earthengine.google.com/?asset=projects/ee-lucasljardim9/assets/pedo_area](https://code.earthengine.google.com/?asset=projects/ee-lucasljardim9/assets/pedo_area).\n",
    "\n",
    "* Arquivo matricial da [conectividade local](https://resiliencia-climatica-brasil.github.io/Relatorio_final/Conectividade_local.html) produzido neste projeto utilizando o [*Omniscape*](https://docs.circuitscape.org/Omniscape.jl/latest/).\n",
    "\n",
    "[https://code.earthengine.google.com/?asset=projects/ee-lucasljardim9/assets/local_connectedness](https://code.earthengine.google.com/?asset=projects/ee-lucasljardim9/assets/local_connectedness).\n",
    "\n",
    "## Base importada do MapBiomas\n",
    "\n",
    "[https://code.earthengine.google.com/?asset=projects/mapbiomas-workspace/public/collection7/mapbiomas_collection70_integration_v2](https://code.earthengine.google.com/?asset=projects/mapbiomas-workspace/public/collection7/mapbiomas_collection70_integration_v2).\n",
    "\n",
    "## Bases disponibilizadas pelo catálogo do *Google Earth Engine*\n",
    "\n",
    "### Modelo Digital de Elevação\n",
    "\n",
    "[https://developers.google.com/earth-engine/datasets/catalog/MERIT_DEM_v1_0_3](https://developers.google.com/earth-engine/datasets/catalog/MERIT_DEM_v1_0_3)\n",
    "\n",
    "### Acúmulo de fluxo\n",
    "\n",
    "[https://developers.google.com/earth-engine/datasets/catalog/MERIT_Hydro_v1_0_1](https://developers.google.com/earth-engine/datasets/catalog/MERIT_Hydro_v1_0_1)\n",
    "\n",
    "\n",
    "## Dados produzidos pelas análises\n",
    "\n",
    "### Variedade de formas de relevo\n",
    "\n",
    "[https://code.earthengine.google.com/?asset=projects/ee-lucasljardim9/assets/landform_variety](https://code.earthengine.google.com/?asset=projects/ee-lucasljardim9/assets/landform_variety)\n",
    "\n",
    "### Amplitude altitudinal\n",
    "\n",
    "[https://code.earthengine.google.com/?asset=projects/ee-lucasljardim9/assets/elevation_range_residual](https://code.earthengine.google.com/?asset=projects/ee-lucasljardim9/assets/elevation_range_residual)\n",
    "\n",
    "### Quantidade de áreas úmidas\n",
    "\n",
    "[https://code.earthengine.google.com/?asset=projects/ee-lucasljardim9/assets/wetlands_count](https://code.earthengine.google.com/?asset=projects/ee-lucasljardim9/assets/wetlands_count)\n",
    "\n",
    "### Densidade de áreas úmidas local\n",
    "\n",
    "[https://code.earthengine.google.com/?asset=projects/ee-lucasljardim9/assets/wetlands_density](https://code.earthengine.google.com/?asset=projects/ee-lucasljardim9/assets/wetlands_density)\n",
    "\n",
    "### Densidade de áreas úmidas regional\n",
    "\n",
    "[https://code.earthengine.google.com/?asset=projects/ee-lucasljardim9/assets/wetlands_density_1000](https://code.earthengine.google.com/?asset=projects/ee-lucasljardim9/assets/wetlands_density_1000)\n",
    "\n",
    "### Riqueza de solos\n",
    "\n",
    "[https://code.earthengine.google.com/?asset=projects/ee-lucasljardim9/assets/soil_diversity](https://code.earthengine.google.com/?asset=projects/ee-lucasljardim9/assets/soil_diversity)\n",
    "\n",
    "### Valores de Z das variáveis \n",
    "\n",
    "[https://code.earthengine.google.com/?asset=projects/ee-lucasljardim9/assets/Z_landform_variety](https://code.earthengine.google.com/?asset=projects/ee-lucasljardim9/assets/Z_landform_variety)\n",
    "\n",
    "[https://code.earthengine.google.com/?asset=projects/ee-lucasljardim9/assets/Z_elevation_range](https://code.earthengine.google.com/?asset=projects/ee-lucasljardim9/assets/Z_elevation_range)\n",
    "\n",
    "[https://code.earthengine.google.com/?asset=projects/ee-lucasljardim9/assets/Z_wetlands_score](https://code.earthengine.google.com/?asset=projects/ee-lucasljardim9/assets/Z_wetlands_score)\n",
    "\n",
    "[https://code.earthengine.google.com/?asset=projects/ee-lucasljardim9/assets/Z_soil_diversity](https://code.earthengine.google.com/?asset=projects/ee-lucasljardim9/assets/Z_soil_diversity)\n",
    "\n",
    "### Heterogeneidade da paisagem\n",
    "\n",
    "[https://code.earthengine.google.com/?asset=projects/ee-lucasljardim9/assets/landscape_heterogeneity](https://code.earthengine.google.com/?asset=projects/ee-lucasljardim9/assets/landscape_heterogeneity)\n",
    "\n",
    "### Conectividade local\n",
    "\n",
    "[https://code.earthengine.google.com/?asset=projects/ee-lucasljardim9/assets/local_connectedness](https://code.earthengine.google.com/?asset=projects/ee-lucasljardim9/assets/local_connectedness)\n",
    "\n",
    "### Resiliência da paisagem\n",
    "\n",
    "[https://code.earthengine.google.com/?asset=projects/ee-lucasljardim9/assets/resilience](https://code.earthengine.google.com/?asset=projects/ee-lucasljardim9/assets/resilience)\n"
   ]
  },
  {
   "cell_type": "code",
   "execution_count": null,
   "id": "77546867",
   "metadata": {},
   "outputs": [],
   "source": []
  }
 ],
 "metadata": {
  "kernelspec": {
   "display_name": "Python 3 (ipykernel)",
   "language": "python",
   "name": "python3"
  },
  "language_info": {
   "codemirror_mode": {
    "name": "ipython",
    "version": 3
   },
   "file_extension": ".py",
   "mimetype": "text/x-python",
   "name": "python",
   "nbconvert_exporter": "python",
   "pygments_lexer": "ipython3",
   "version": "3.8.10"
  }
 },
 "nbformat": 4,
 "nbformat_minor": 5
}
