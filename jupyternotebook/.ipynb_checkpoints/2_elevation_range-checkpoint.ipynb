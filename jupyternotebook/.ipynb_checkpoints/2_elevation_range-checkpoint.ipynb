{
 "cells": [
  {
   "cell_type": "markdown",
   "id": "10dc8f75",
   "metadata": {},
   "source": [
    "# Amplitude altitudinal"
   ]
  },
  {
   "cell_type": "markdown",
   "id": "495f97d4",
   "metadata": {},
   "source": [
    "## Importando pacotes e inicializando geemap"
   ]
  },
  {
   "cell_type": "code",
   "execution_count": 1,
   "id": "1f647c4b",
   "metadata": {},
   "outputs": [],
   "source": [
    "import os\n",
    "import ee\n",
    "import geemap"
   ]
  },
  {
   "cell_type": "code",
   "execution_count": 2,
   "id": "993db817",
   "metadata": {},
   "outputs": [],
   "source": [
    "geemap.ee_initialize()"
   ]
  },
  {
   "cell_type": "markdown",
   "id": "83e8a4d6",
   "metadata": {},
   "source": [
    "\n",
    "## Cálculo da amplitude altitudinal\n",
    "\n",
    "A amplitude altitudinal foi calculada como a diferença entre a altitude máxima e mínima dentro da vizinhaça da célula focal. \n",
    "Como essa métrica é correlacionada com a variedade de formas de relevo, nós calculamos o resíduos de uma \n",
    "regressão (*Ordinary Least Squares*) entre as duas váriaveis. Assim, a amplitude altitudinal residual é independente da variedade de formas de relevo. Isso permite a identificação de locais que tenham maior variabilidade microclimática que aquela proporcionada pela variedade de formas de relevo, quando calcularmos o índice de diversidade da paisagem."
   ]
  },
  {
   "cell_type": "markdown",
   "id": "5947d752",
   "metadata": {},
   "source": [
    "## Base de dados\n",
    "\n",
    "Utilizamos o Modelo Digital de Elevação (DEM) do Merit-DEM [@yamazaki_high-accuracy_2017], na escala de 90 metros. O Merit-DEM é um produto global que combina dados dos satélites do Shuttle Radar Topography Mission (SRTM) [@farr_shuttle_2007] e Advanced Land Observing Satellite (ALOS) [@tadono_t_ishida_h_oda_f_naito_s_minakawa_k_iwamoto_h_last_precise_2014], permitindo a replicabilidade da metodologia em outras regiões. Além disso, o Merit-DEM corrige viéses de Modelo Digitais de Elevação gerados por imagens de satétite como *speckle noise*, *stripe noise*, *absolute bias* e *tree height bias* [@yamazaki_high-accuracy_2017]. A correção de *tree height bias* é especialmente importante para a Floresta Amazônica devido à sua densidade de árvores altas. \n",
    "\n",
    "A variedade de formas de relevo foi calculada anteriormente (veja o capítulo [Variedade de formas de relevo](https://resiliencia-climatica-brasil.github.io/diversity-resilience-python/1_landforms.html)) e está disponível como um *asset* em **[https://code.earthengine.google.com/?asset=projects/ee-lucasljardim9/assets/landform_variety](https://code.earthengine.google.com/?asset=projects/ee-lucasljardim9/assets/landform_variety)**.   \n",
    "\n",
    "As análises foram rodadas no *Google Earth Engine* [@gorelick_google_2017], devido à demanda computacional do projeto, usando o pacote **geemap** [@wu_geemap_2020] em *Python* [@python_software_foundation_python_2023] como interface pela facilidade na documentação e reprodutividade das análises. O JupyterNotebook para a reprodução das análises pode ser encontrado em [https://github.com/Resiliencia-climatica-Brasil/diversity-resilience-python/blob/master/jupyternotebook/2_elevation_range.ipynb](https://github.com/Resiliencia-climatica-Brasil/diversity-resilience-python/blob/master/jupyternotebook/2_elevation_range.ipynb). \n"
   ]
  },
  {
   "cell_type": "markdown",
   "id": "793344cf",
   "metadata": {},
   "source": [
    "## Códigos para o cálculo da amplitude altitudinal residual\n",
    "\n",
    "Primeiro, importamos um vetor dos biomas do Brasil para extrairmos as coordenadas mínimas e máximas do Brasil.\n"
   ]
  },
  {
   "cell_type": "code",
   "execution_count": 3,
   "id": "8e2cbb3b",
   "metadata": {},
   "outputs": [],
   "source": [
    "# Importando mapa de biomas do IBGE para extrair as coordenadas mínimas e máximas do Brasil\n",
    "regiao = ee.FeatureCollection(\"projects/ee-lucasljardim9/assets/Biome\")\n",
    "\n",
    "def func_cmp(feature):\n",
    "    return feature.bounds() \n",
    "\n",
    "# Extraindo as coordenadas mínimas e máximas do Brasil\n",
    "regiao_box = regiao.map(func_cmp).geometry().dissolve(**{'maxError': 1}).bounds()"
   ]
  },
  {
   "cell_type": "markdown",
   "id": "57f994ec",
   "metadata": {},
   "source": [
    "Importamos os *rasters* do modelo digital de elevação e da variedade de formas de relevo e definimos a resolução da análise como aquela do modelo digital de elevação."
   ]
  },
  {
   "cell_type": "code",
   "execution_count": 4,
   "id": "7db81602",
   "metadata": {},
   "outputs": [],
   "source": [
    "# Importando o modelo digital de elevação\n",
    "DEM = ee.Image(\"MERIT/DEM/v1_0_3\")\n",
    "\n",
    "# Importando a variedade de landforms calculada anteriormente\n",
    "landform_variety = ee.Image(\"projects/ee-lucasljardim9/assets/landform_variety\")\n",
    "\n",
    "#Escala dos rasters ~92 metros\n",
    "escala = DEM.projection().nominalScale()"
   ]
  },
  {
   "cell_type": "markdown",
   "id": "5e6f6f82",
   "metadata": {},
   "source": [
    "Extraímos do *raster* as células dentro da vizinhança (kernel circular com 5 células de raio, ~450 metros) da célula focal e salvamos como bandas de uma imagem. Assim, cada banda é um *stack* das células da vizinhança da célula focal, a primeira banda possui todas as primeiras células de cada célula focal, a segunda banda todas as segunda células, e assim por diante. "
   ]
  },
  {
   "cell_type": "code",
   "execution_count": 5,
   "id": "86bed6a6",
   "metadata": {},
   "outputs": [],
   "source": [
    "# Tamanho do raio do kernel para o calculo da amplitude altitudinal\n",
    "radius_pixels = 5\n",
    "\n",
    "# Criando rasters da vizinhança de cada célula como bandas da imagem\n",
    "neighbor = DEM.neighborhoodToBands(ee.Kernel.circle(ee.Number(radius_pixels)))"
   ]
  },
  {
   "cell_type": "markdown",
   "id": "7f6ae109",
   "metadata": {},
   "source": [
    "O *raster* *neighbor* criado acima possui as células da vizinhança como bandas. Assim, as primeiras células de cada banda são as células da vizinhança da primeira célula focal, organizadas como colunas (bandas). Ao calcularmos os valores máximos e mínimos para cada coluna de *neighbor*, estamos calculando os valores máximos e mínimos da vizinhança de cada célula focal. "
   ]
  },
  {
   "cell_type": "code",
   "execution_count": 6,
   "id": "95c619e1",
   "metadata": {},
   "outputs": [],
   "source": [
    "# Calcule o máximo da vizinhança\n",
    "elevation_max = neighbor.reduce(ee.Reducer.max())\n",
    "\n",
    "# Calcule o mínimo da vizinhança\n",
    "elevation_min = neighbor.reduce(ee.Reducer.min())"
   ]
  },
  {
   "cell_type": "markdown",
   "id": "07a0b0da",
   "metadata": {},
   "source": [
    "Subtraindo os valores máximos e mínimos de cada célula focal e calculando o seu valor absoluto, temos a amplitude altitudinal para cada célula focal. Nós salvamos a amplitude altitudinal e variedade de formas de relevo como um *raster* com duas bandas, sendo a primeira banda a variável preditora da regressão e a segunda banda a variável resposta."
   ]
  },
  {
   "cell_type": "code",
   "execution_count": 7,
   "id": "13a828fc",
   "metadata": {},
   "outputs": [],
   "source": [
    "# Calcule a amplitude da vizinhança\n",
    "elevation_range = elevation_max.subtract(elevation_min).abs()\n",
    "\n",
    "# Crie uma imagem com as bandas de varidedade de formas de relevo e amplitude altitudinal \n",
    "# A primeira imagem é o x da regressão e a segunda é o y\n",
    "\n",
    "elevation = (ee.Image.cat(landform_variety, elevation_range)\n",
    "            .rename(['landform_variety', 'elevation_range']))"
   ]
  },
  {
   "cell_type": "markdown",
   "id": "8a29709b",
   "metadata": {},
   "source": [
    "Dessa forma, aplicamos a regressão entre as variáveis."
   ]
  },
  {
   "cell_type": "code",
   "execution_count": 9,
   "id": "8a3029cf",
   "metadata": {},
   "outputs": [],
   "source": [
    "# Rode uma regressão linear (OLS) entre varidade formas de relevo e amplitude altitudinal\n",
    "regression = elevation.reduceRegion(**{\n",
    "     'reducer': ee.Reducer.linearFit(),\n",
    "     'geometry': regiao_box,\n",
    "     'maxPixels': 1e13,\n",
    "     'scale': escala\n",
    "    })"
   ]
  },
  {
   "cell_type": "markdown",
   "id": "24b479f2",
   "metadata": {},
   "source": [
    "Após a regressão, multiplicamos a variável preditora pelo coeficiente de regressão (*slope*) e adicionamos o valor do intercepto para predizermos os valores de amplitude altitudinal esperados pela regressão. Em seguida, subtraímos os valores de amplitude altitudinal pelos valores preditos pela regressão para calcularmos os resíduos do modelo."
   ]
  },
  {
   "cell_type": "code",
   "execution_count": 10,
   "id": "cf9b5000",
   "metadata": {},
   "outputs": [],
   "source": [
    "# Calcule o valor predito, pela regressão, de amplitude altitudinal, sem intercepto \n",
    "pred = elevation.select('landform_variety').multiply(ee.Number(regression.get('scale')))\n",
    "\n",
    "# Adicione o intercepto na predição\n",
    "predict = pred.add(ee.Number(regression.get('offset')))\n",
    "\n",
    "# Calcule o residuo da regressão\n",
    "residuals = elevation.select('elevation_range').subtract(predict).rename(['residuals'])"
   ]
  },
  {
   "cell_type": "markdown",
   "id": "6c88d93d",
   "metadata": {},
   "source": [
    "Por fim, exportamos o raster de amplitude altitudinal residual como um *asset* do *Google Earth Engine*."
   ]
  },
  {
   "cell_type": "code",
   "execution_count": 12,
   "id": "13c7a7cb",
   "metadata": {},
   "outputs": [],
   "source": [
    "# Exporte a amplitude altitudinal residual como asset\n",
    "\n",
    "assetId = \"projects/ee-lucasljardim9/assets/elevation_range_residual\"\n",
    "\n",
    "geemap.ee_export_image_to_asset(\n",
    "    residuals, \n",
    "    description='elevation_range_residual', \n",
    "    assetId=assetId, \n",
    "    region=regiao_box, \n",
    "    scale=escala, \n",
    "    maxPixels=1e13\n",
    ")"
   ]
  }
 ],
 "metadata": {
  "kernelspec": {
   "display_name": "Python 3 (ipykernel)",
   "language": "python",
   "name": "python3"
  },
  "language_info": {
   "codemirror_mode": {
    "name": "ipython",
    "version": 3
   },
   "file_extension": ".py",
   "mimetype": "text/x-python",
   "name": "python",
   "nbconvert_exporter": "python",
   "pygments_lexer": "ipython3",
   "version": "3.8.10"
  }
 },
 "nbformat": 4,
 "nbformat_minor": 5
}
