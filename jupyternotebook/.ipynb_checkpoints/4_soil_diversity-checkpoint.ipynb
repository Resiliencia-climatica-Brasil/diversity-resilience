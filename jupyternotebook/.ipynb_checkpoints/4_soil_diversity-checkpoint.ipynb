{
 "cells": [
  {
   "cell_type": "markdown",
   "id": "94ccdf36",
   "metadata": {},
   "source": [
    "# Riqueza de solos"
   ]
  },
  {
   "cell_type": "markdown",
   "id": "d09f3a28",
   "metadata": {},
   "source": [
    "## Importando pacotes e inicializando *geemap*"
   ]
  },
  {
   "cell_type": "code",
   "execution_count": 1,
   "id": "a1be23f4",
   "metadata": {},
   "outputs": [],
   "source": [
    "import os\n",
    "import ee\n",
    "import geemap"
   ]
  },
  {
   "cell_type": "code",
   "execution_count": 2,
   "id": "0814e924",
   "metadata": {},
   "outputs": [
    {
     "name": "stderr",
     "output_type": "stream",
     "text": [
      "*** Earth Engine *** Share your feedback by taking our Annual Developer Satisfaction Survey: https://google.qualtrics.com/jfe/form/SV_doiqkQG3NJ1t8IS?source=API\n"
     ]
    }
   ],
   "source": [
    "geemap.ee_initialize()"
   ]
  },
  {
   "cell_type": "markdown",
   "id": "346846d0",
   "metadata": {},
   "source": [
    "A riqueza de solos é calculada como a quantidade de componentes da unidade de mapeamento de solos."
   ]
  },
  {
   "cell_type": "markdown",
   "id": "0b2ee1de",
   "metadata": {},
   "source": [
    "## Banco de Dados\n",
    "\n",
    "Utilizamos a [base de dados de pedologia](https://geoftp.ibge.gov.br/informacoes_ambientais/pedologia/vetores/escala_250_mil/versao_2023/pedo_area.zip) do Instituto Brasileiro de Geografia e Estatística (IBGE)  para o cálculo da riqueza de solos. Calculamos a quantidade de solos componentes de cada polígono e rasterizados na escala do modelo digital de elevação utilizado nas etapas anteriores (~ 92 metros)."
   ]
  },
  {
   "cell_type": "markdown",
   "id": "5c5ea801",
   "metadata": {},
   "source": [
    "## Códigos para a criação da riqueza de solos\n",
    "\n",
    "As análises foram rodadas no *Google Earth Engine* (Gorelick 2017), devido a demanda computacional do projeto, usando o pacote **geemap** (Wu 2020), em *Python* (Python Software Foundation 2023), como interface pela facilidade na documentação e reprodutividade das análises. O JupyterNotebook para a reprodução das análises pode ser encontrado em [https://github.com/Resiliencia-climatica-Brasil/diversity-resilience-python/blob/master/jupyternotebook/4_soil_diversity.ipynb](https://github.com/Resiliencia-climatica-Brasil/diversity-resilience-python/blob/master/jupyternotebook/4_soil_diversity.ipynb). "
   ]
  },
  {
   "cell_type": "markdown",
   "id": "0e10dbae",
   "metadata": {},
   "source": [
    "O primeiro passo é criar uma função que conta os tipos de solos componentes de cada polígono. Concatenamos as colunas **componente**, **component1**, **component2** e **component3**. Depois, separamos a *string* pelos sinais de \"+\", que indicam as separações das descrições de cada tipo de solo. Em seguida, contamos quantos tipo de solos existem em cada polígono como o comprimento da lista de tipos de solos. Adicionamos uma coluna chamada **soil_richness** com a riqueza de solos em cada polígono."
   ]
  },
  {
   "cell_type": "code",
   "execution_count": 3,
   "id": "b10b4718",
   "metadata": {},
   "outputs": [],
   "source": [
    "def fun(feature):\n",
    "    number = (ee.String(feature.get(\"componente\"))\n",
    "              .cat(ee.String(feature.get(\"component1\")))\n",
    "              .cat(ee.String(feature.get(\"component2\")))\n",
    "              .cat(ee.String(feature.get(\"component3\")))\n",
    "              .split(\"\\+\")\n",
    "              .length())\n",
    "\n",
    "    return feature.set(\"soil_richness\", number)\n",
    "\n"
   ]
  },
  {
   "cell_type": "markdown",
   "id": "9eb80721",
   "metadata": {},
   "source": [
    "Em seguida, importamos os dados de solo, definimos a região para exportar o dado e a escala da análise. "
   ]
  },
  {
   "cell_type": "code",
   "execution_count": 4,
   "id": "e9d1b9be",
   "metadata": {},
   "outputs": [],
   "source": [
    "# Importando os polígonos de solo\n",
    "solo = ee.FeatureCollection(\"projects/ee-lucasljardim9/assets/pedo_area\")\n",
    "\n",
    "# Importando mapa de biomas do IBGE para extrair as coordenadas mínimas e máximas do Brasil\n",
    "regiao = ee.FeatureCollection(\"projects/ee-lucasljardim9/assets/Biome\")\n",
    "\n",
    "def func_cmp(feature):\n",
    "    return feature.bounds() \n",
    "\n",
    "# Extraindo as coordenadas mínimas e máximas do Brasil\n",
    "regiao_box = regiao.map(func_cmp).geometry().dissolve(**{'maxError': 1}).bounds()\n",
    "\n",
    "# Extraindo a resolução do mapa\n",
    "DEM = ee.Image(\"MERIT/DEM/v1_0_3\") \n",
    "\n",
    "escala = DEM.projection().nominalScale()"
   ]
  },
  {
   "cell_type": "markdown",
   "id": "fdad5817",
   "metadata": {},
   "source": [
    "Aplicamos a função criada anteriormente aos polígonos de solo."
   ]
  },
  {
   "cell_type": "code",
   "execution_count": 19,
   "id": "efc48639",
   "metadata": {},
   "outputs": [],
   "source": [
    "solo = solo.map(fun)"
   ]
  },
  {
   "cell_type": "markdown",
   "id": "8c9c3c77",
   "metadata": {},
   "source": [
    "Rasterizamos a riqueza de solos na mesma escala das análises anteriores. "
   ]
  },
  {
   "cell_type": "code",
   "execution_count": 20,
   "id": "c93314b1",
   "metadata": {},
   "outputs": [],
   "source": [
    "\n",
    "soil_diversity = solo.reduceToImage(**{'properties':[\"soil_richness\"],\n",
    "                     'reducer':ee.Reducer.max()}) \\\n",
    "                     .reproject(**{'crs':\"EPSG:4326\",\n",
    "                                  'scale':escala})"
   ]
  },
  {
   "cell_type": "markdown",
   "id": "6fd142c6",
   "metadata": {},
   "source": [
    "Por fim, exportamos o *raster* como um *asset* no *Google Earth Engine*."
   ]
  },
  {
   "cell_type": "code",
   "execution_count": null,
   "id": "ef334aeb",
   "metadata": {},
   "outputs": [],
   "source": [
    "# Exporte o raster de riqueza de solo \n",
    "assetId = \"projects/ee-lucasljardim9/assets/soil_diversity\"\n",
    "\n",
    "geemap.ee_export_image_to_asset(\n",
    "    soil_diversity, description='soil_diversity', assetId=assetId, region=regiao_box, scale=escala, maxPixels=1e13\n",
    ")"
   ]
  }
 ],
 "metadata": {
  "kernelspec": {
   "display_name": "Python 3 (ipykernel)",
   "language": "python",
   "name": "python3"
  },
  "language_info": {
   "codemirror_mode": {
    "name": "ipython",
    "version": 3
   },
   "file_extension": ".py",
   "mimetype": "text/x-python",
   "name": "python",
   "nbconvert_exporter": "python",
   "pygments_lexer": "ipython3",
   "version": "3.8.10"
  }
 },
 "nbformat": 4,
 "nbformat_minor": 5
}
