{
 "cells": [
  {
   "cell_type": "markdown",
   "id": "fd54314b",
   "metadata": {},
   "source": [
    "# Diversidade da paisagem"
   ]
  },
  {
   "cell_type": "markdown",
   "id": "0013b908",
   "metadata": {},
   "source": [
    "## Importando pacotes e inicializando *geemap*"
   ]
  },
  {
   "cell_type": "code",
   "execution_count": 1,
   "id": "1e3de2ba",
   "metadata": {},
   "outputs": [],
   "source": [
    "import os\n",
    "import ee\n",
    "import geemap"
   ]
  },
  {
   "cell_type": "code",
   "execution_count": 2,
   "id": "187cbec6",
   "metadata": {},
   "outputs": [
    {
     "name": "stderr",
     "output_type": "stream",
     "text": [
      "*** Earth Engine *** Share your feedback by taking our Annual Developer Satisfaction Survey: https://google.qualtrics.com/jfe/form/SV_doiqkQG3NJ1t8IS?source=API\n"
     ]
    }
   ],
   "source": [
    "geemap.ee_initialize()"
   ]
  },
  {
   "cell_type": "markdown",
   "id": "ea639436",
   "metadata": {},
   "source": [
    "A diversidade da paisagem é uma métrica composta pelos valores de Z da variedade de *landforms*, amplitude altitudinal, *wetland score* e diversidade de solos. Inicialmente, a diversidade da paisage assume os valores de variedade de *landforms*. Nos locais onde a amplitude de elevação é maior que variedade de *landforms*, a diversidade da paisagem é substituída pela média ponderada entre as duas variáveis, atribuindo peso dobrado para a variedade de *landforms*. Locais onde wetland score é maior que a diversidade da paisagem calculada anteriormente, os valores são substituídos por wetland score. Na localidades onde a diversidade de solo é maior que a diversidade da paisagem, os valores são substituídos pela média ponderada das variáveis naquela localidade."
   ]
  },
  {
   "cell_type": "markdown",
   "id": "9462bd4f",
   "metadata": {},
   "source": [
    "## Base de Dados\n",
    "\n",
    "Os dados para a diversidade da paisagem são os criados na etapa de cálculo dos *Z-scores*, descrito anteriormente."
   ]
  },
  {
   "cell_type": "markdown",
   "id": "48ef3a59",
   "metadata": {},
   "source": [
    "## Códigos para a criação da diversidade da paisagem"
   ]
  },
  {
   "cell_type": "markdown",
   "id": "c1131857",
   "metadata": {},
   "source": [
    "Nossas análises foram rodadas no Google Earth Engine (Gorelick 2017), devido a demanda computacional do projeto, usando o pacote geemap (Wu 2020) em Python (Python Software Foundation 2023) como interface pela facilidade na documentação e reprodutividade das análises."
   ]
  },
  {
   "cell_type": "markdown",
   "id": "1c55da19",
   "metadata": {},
   "source": [
    "Nós importamos os dados de bioma para delimitar a região de análise e o raster do Brasil para que os mapas sejam cortados para o Brasil antes do cálculo da diversidadade da paisagem."
   ]
  },
  {
   "cell_type": "code",
   "execution_count": 3,
   "id": "b64511b5",
   "metadata": {},
   "outputs": [],
   "source": [
    "# Importando o polígono de bioma para definir as \n",
    "# coordenadas máximas e mínimas do Brasil\n",
    "\n",
    "bioma = ee.FeatureCollection(\"projects/ee-lucasljardim9/assets/Biome\")\n",
    "\n",
    "brasil_raster = ee.Image(\"projects/ee-lucasljardim9/assets/brasil_raster\")\n",
    "\n",
    "# ModeloDigital de Elevação para extrair a resolução\n",
    "DEM = ee.Image(\"MERIT/DEM/v1_0_3\")\n",
    "\n",
    "# função para extrair as bordas dos polígonos\n",
    "def func_cmp(feature):\n",
    "    return feature.bounds() \n",
    "\n",
    "# Extraindo as coordenadas mínimas e máximas do Brasil\n",
    "bioma_box = bioma.map(func_cmp).geometry().dissolve(**{'maxError': 1}).bounds()\n",
    "\n",
    "# Resolução das análises\n",
    "escala = DEM.projection().nominalScale()"
   ]
  },
  {
   "cell_type": "markdown",
   "id": "bea82f2e",
   "metadata": {},
   "source": [
    "Importamos os mapas e cortamos para o raster do Brasil."
   ]
  },
  {
   "cell_type": "code",
   "execution_count": 6,
   "id": "80b90af8",
   "metadata": {},
   "outputs": [],
   "source": [
    "# Importando e cortando as imagens para o Brasil\n",
    "landform_Z = (ee.Image('projects/ee-lucasljardim9/assets/Z_landform_variety')\n",
    "              .updateMask(brasil_raster))\n",
    "\n",
    "elevation_range_Z = (ee.Image('projects/ee-lucasljardim9/assets/Z_elevation_range')\n",
    "                     .updateMask(brasil_raster))\n",
    "\n",
    "wetland_score = (ee.Image('projects/ee-lucasljardim9/assets/Z_wetlands_score')\n",
    "                 .updateMask(brasil_raster))\n",
    "\n",
    "soil_diversity =  (ee.Image('projects/ee-lucasljardim9/assets/Z_soil_diversity')\n",
    "                   .updateMask(brasil_raster))"
   ]
  },
  {
   "cell_type": "markdown",
   "id": "b3c6057a",
   "metadata": {},
   "source": [
    "Aqui começamos o cálculo da diversidade da paisagem, atribuindo à diversidade da paisagem os valores de variedade de *landforms*. Depois testamos os locais onde a amplitude de elevação é maior que a variedade de *landforms* e substituímos os valores."
   ]
  },
  {
   "cell_type": "code",
   "execution_count": 7,
   "id": "cf6467c7",
   "metadata": {},
   "outputs": [],
   "source": [
    "landscape_diversity = landform_Z\n",
    "\n",
    "# Testando se o Z da amplitude de elevação é maior que o Z da variedade de landsforms\n",
    "test_1 = elevation_range_Z.gt(landscape_diversity)\n",
    "\n",
    "# Média ponderada entre variedade de landforms e amplitude de elevação\n",
    "average_elevation = landform_Z.multiply(2).add(elevation_range_Z).divide(3)\n",
    "\n",
    "# Substituindo os valores de variedade de landforms por amplitude de elevação \n",
    "# onde o segundo valor é maior que o primeiro\n",
    "landscape_diversity = landscape_diversity.where(test_1, average_elevation)"
   ]
  },
  {
   "cell_type": "markdown",
   "id": "38467d1a",
   "metadata": {},
   "source": [
    "Agora, nós adicionamos *wetland score*, primeiro testando onde *wetland score* é maior que a diversidade da paisagem calculada anteriormente, e nos locais cujos valores de *wetland score* são maiores que a diversidade da paisagem, nós substituímos os valores."
   ]
  },
  {
   "cell_type": "code",
   "execution_count": 18,
   "id": "b413f0db",
   "metadata": {},
   "outputs": [],
   "source": [
    "# testando onde wetland score é maior que a diversidade da paisagem\n",
    "# com variedade de landforms e amplitude de elevação\n",
    "test_2 = wetland_score.gt(landscape_diversity)\n",
    "\n",
    "# Médias para cada teste\n",
    "\n",
    "average_wetland_1 = landform_Z.multiply(2).add(elevation_range_Z).add(wetland_score).divide(4)\n",
    "\n",
    "average_wetland_2 = landform_Z.multiply(2).add(wetland_score).divide(3)\n",
    "\n",
    "# Substitua o valor de diversidade da paisagem por wetland score\n",
    "# onde o segundo é maior que o primeiro\n",
    "landscape_diversity = landscape_diversity.where(test_1.And(test_2), average_wetland_1)\n",
    "\n",
    "landscape_diversity = landscape_diversity.where(test_1.Not().And(test_2), average_wetland_2)"
   ]
  },
  {
   "cell_type": "markdown",
   "id": "afa8e598",
   "metadata": {},
   "source": [
    "A inclusão da diversidade de solos é um pouco mais complexa. Nós testamos onde a diversidade de solo é maior a diversidade da paisagem já calculada e substituímos os valores por 4 médias ponderadas diferentes, cada uma representando os passos anteriores. A primeira média é para os locais onde a diversidade de solos é maior que *wetland score*, que é maior que amplitude de elevação. Na segunda média, os valores são para as regiões com maior diversidade de solos, mas onde *wetland score* é menor que a amplitude de elevação. A terceira média é para locais onde a amplitude de elevação não é maior que variedade de *landforms*, mas possui valores menores de *wetland score*, que também são menores que a diversidade de solos. A quarta média é para locais onde somente a diversidade de solos é maior que a variedade de *landforms*."
   ]
  },
  {
   "cell_type": "code",
   "execution_count": 19,
   "id": "63f5a4f3",
   "metadata": {},
   "outputs": [],
   "source": [
    "# teste onde diversidade de solo é maior que a diversidade da paisagem\n",
    "test_3 = soil_diversity.gt(landscape_diversity)\n",
    "\n",
    "# Calcule as médias ponderadas\n",
    "average_soil_1 = (landform_Z.multiply(2)\n",
    "                 .add(elevation_range_Z)\n",
    "                 .add(wetland_score)\n",
    "                 .add(soil_diversity)\n",
    "                 .divide(5))\n",
    "\n",
    "average_soil_2 = (landform_Z.multiply(2)\n",
    "                 .add(elevation_range_Z)\n",
    "                 .add(soil_diversity)\n",
    "                 .divide(4))\n",
    "\n",
    "average_soil_3 = (landform_Z.multiply(2)\n",
    "                 .add(wetland_score)\n",
    "                 .add(soil_diversity)\n",
    "                 .divide(4))\n",
    "\n",
    "average_soil_4 = (landform_Z.multiply(2)\n",
    "                 .add(soil_diversity)\n",
    "                 .divide(3))\n",
    "\n",
    "# Substitua os valores de diversidade da paisagem pela diversidade de solo\n",
    "# os os valores de solo são maiores\n",
    "landscape_diversity = (landscape_diversity\n",
    "                      .where(test_1.And(test_2).And(test_3), average_soil_1))\n",
    "\n",
    "landscape_diversity = (landscape_diversity\n",
    "                      .where(test_1.And(test_2.Not()).And(test_3), average_soil_2))\n",
    "\n",
    "landscape_diversity = (landscape_diversity\n",
    "                      .where(test_1.Not().And(test_2).And(test_3), average_soil_3))\n",
    "\n",
    "landscape_diversity = (landscape_diversity\n",
    "                      .where(test_1.Not().And(test_2.Not()).And(test_3), average_soil_4))"
   ]
  },
  {
   "cell_type": "markdown",
   "id": "a4bc5c0d",
   "metadata": {},
   "source": [
    " Finalizamos exportando o mapa de diversidade da paisagem como *asset* no *Google Earth Engine*."
   ]
  },
  {
   "cell_type": "raw",
   "id": "0721d8fe",
   "metadata": {},
   "source": [
    "# Exporte o raster de diversidade da paisagem\n",
    "assetId = \"projects/ee-lucasljardim9/assets/landscape_diversity\"\n",
    "\n",
    "geemap.ee_export_image_to_asset(\n",
    "    landscape_diversity, \n",
    "    description='landscape_diversity', \n",
    "    assetId=assetId, \n",
    "    region=bioma_box, \n",
    "    scale=escala,\n",
    "    maxPixels=1e13\n",
    ")"
   ]
  },
  {
   "cell_type": "code",
   "execution_count": null,
   "id": "41311042",
   "metadata": {},
   "outputs": [],
   "source": []
  }
 ],
 "metadata": {
  "kernelspec": {
   "display_name": "Python 3 (ipykernel)",
   "language": "python",
   "name": "python3"
  },
  "language_info": {
   "codemirror_mode": {
    "name": "ipython",
    "version": 3
   },
   "file_extension": ".py",
   "mimetype": "text/x-python",
   "name": "python",
   "nbconvert_exporter": "python",
   "pygments_lexer": "ipython3",
   "version": "3.8.10"
  }
 },
 "nbformat": 4,
 "nbformat_minor": 5
}
