{
 "cells": [
  {
   "cell_type": "markdown",
   "id": "fd54314b",
   "metadata": {},
   "source": [
    "# Heterogeneidade da paisagem"
   ]
  },
  {
   "cell_type": "markdown",
   "id": "0013b908",
   "metadata": {},
   "source": [
    "## Importando pacotes e inicializando *geemap*"
   ]
  },
  {
   "cell_type": "code",
   "execution_count": 1,
   "id": "1e3de2ba",
   "metadata": {},
   "outputs": [],
   "source": [
    "import os\n",
    "import ee\n",
    "import geemap"
   ]
  },
  {
   "cell_type": "code",
   "execution_count": 2,
   "id": "187cbec6",
   "metadata": {},
   "outputs": [],
   "source": [
    "geemap.ee_initialize()"
   ]
  },
  {
   "cell_type": "markdown",
   "id": "ea639436",
   "metadata": {},
   "source": [
    "A heterogeneidade da paisagem é uma métrica composta pelos valores de Z da variedade de formas de relevo, amplitude altitudinal, índice de áreas úmidas e riqueza de solos [@anderson_resilient_2016]. O cálculo da heterogeneidade da paisagem consiste de uma série de etapas:\n",
    "\n",
    "* (1) A heterogeneidade da paisagem assume os valores de variedade de formas de relevo;\n",
    "* (2) Locais onde a amplitude altitudinal é maior que variedade de formas de relevo, a heterogeneidade da paisagem é substituída pela média ponderada entre as duas variáveis, atribuindo peso dobrado para a variedade de de formas de relevo;\n",
    "* (3) Locais onde o índice de áreas úmidas é maior que a heterogeneidade da paisagem calculada anteriormente, os valores são substituídos pela média ponderada das variáveis, atribuindo pelo duplo para a variedade de formas de relevo;\n",
    "* (4) Localidades onde a riqueza de solos é maior que a heterogeneidade da paisagem das etapas anteriores, os valores são substituídos pela média ponderada das variáveis naquela localidade, atribuindo peso duplo para a variedade de formas de relevo."
   ]
  },
  {
   "cell_type": "markdown",
   "id": "9462bd4f",
   "metadata": {},
   "source": [
    "## Base de dados\n",
    "\n",
    "Os dados para a heterogeneidade da paisagem foram criados na etapa de [cálculo dos valores de Z](https://resiliencia-climatica-brasil.github.io/diversity-resilience-python/5_Z_scores.html)."
   ]
  },
  {
   "cell_type": "markdown",
   "id": "48ef3a59",
   "metadata": {},
   "source": [
    "## Códigos para a criação da heterogeneidade da paisagem"
   ]
  },
  {
   "cell_type": "markdown",
   "id": "c1131857",
   "metadata": {},
   "source": [
    "As análises foram rodadas no *Google Earth Engine* [@gorelick_google_2017], devido a demanda computacional do projeto, usando o pacote **geemap** [@wu_geemap_2020] em *Python* [@python_software_foundation_python_2023] como interface pela facilidade na documentação e reprodutividade das análises. O JupyterNotebook para a reprodução da análise pode ser encontrado em [https://github.com/Resiliencia-climatica-Brasil/diversity-resilience-python/blob/master/jupyternotebook/6_landscape_diversity.ipynb](https://github.com/Resiliencia-climatica-Brasil/diversity-resilience-python/blob/master/jupyternotebook/6_landscape_diversity.ipynb)."
   ]
  },
  {
   "cell_type": "markdown",
   "id": "1c55da19",
   "metadata": {},
   "source": [
    "Importamos os dados de bioma para delimitar a região de análise e definimos a escala espacial da análise como nas etapas anteriores."
   ]
  },
  {
   "cell_type": "code",
   "execution_count": 3,
   "id": "b64511b5",
   "metadata": {},
   "outputs": [],
   "source": [
    "# Importando o polígono de bioma para definir as \n",
    "# coordenadas máximas e mínimas do Brasil\n",
    "\n",
    "regiao = ee.FeatureCollection(\"projects/ee-lucasljardim9/assets/Biome\")\n",
    "\n",
    "# ModeloDigital de Elevação para extrair a resolução\n",
    "DEM = ee.Image(\"MERIT/DEM/v1_0_3\")\n",
    "\n",
    "# função para extrair as bordas dos polígonos\n",
    "def func_cmp(feature):\n",
    "    return feature.bounds() \n",
    "\n",
    "# Extraindo as coordenadas mínimas e máximas do Brasil\n",
    "regiao_box = regiao.map(func_cmp).geometry().dissolve(**{'maxError': 1}).bounds()\n",
    "\n",
    "# Resolução das análises\n",
    "escala = DEM.projection().nominalScale()"
   ]
  },
  {
   "cell_type": "markdown",
   "id": "bea82f2e",
   "metadata": {},
   "source": [
    "Importamos os mapas."
   ]
  },
  {
   "cell_type": "code",
   "execution_count": 4,
   "id": "80b90af8",
   "metadata": {},
   "outputs": [],
   "source": [
    "# Importando e cortando as imagens para o Brasil\n",
    "# modifique os endereços para os do seu projeto\n",
    "landform_Z = ee.Image('projects/ee-lucasljardim9/assets/Z_landform_variety')\n",
    "              \n",
    "\n",
    "elevation_range_Z = ee.Image('projects/ee-lucasljardim9/assets/Z_elevation_range')\n",
    "                    \n",
    "\n",
    "wetland_score = ee.Image('projects/ee-lucasljardim9/assets/Z_wetlands_score')\n",
    "                 \n",
    "\n",
    "soil_diversity =  ee.Image('projects/ee-lucasljardim9/assets/Z_soil_diversity')\n",
    "                  "
   ]
  },
  {
   "cell_type": "markdown",
   "id": "b3c6057a",
   "metadata": {},
   "source": [
    "O cálculo da heterogeneidade da paisagem inicia atribuindo à heterogeneidade da paisagem os valores de variedade de formas de relevo. Em um segundo momento, avaliamos os locais onde a amplitude altitudinal é maior que a variedade de formas de relevo e substituímos os valores."
   ]
  },
  {
   "cell_type": "code",
   "execution_count": 5,
   "id": "cf6467c7",
   "metadata": {},
   "outputs": [],
   "source": [
    "landscape_diversity = landform_Z\n",
    "\n",
    "# Testando se o Z da amplitude altitudinal é maior que o Z da variedade de formas de relevo\n",
    "test_1 = elevation_range_Z.gt(landscape_diversity)\n",
    "\n",
    "# Média ponderada entre variedade de formas de relevo e amplitude altitudinal\n",
    "average_elevation = landform_Z.multiply(2).add(elevation_range_Z).divide(3)\n",
    "\n",
    "# Substituindo os valores de variedade de formas de relevo por amplitude altitudinal \n",
    "# onde o segundo valor é maior que o primeiro\n",
    "landscape_diversity = landscape_diversity.where(test_1, average_elevation)"
   ]
  },
  {
   "cell_type": "markdown",
   "id": "38467d1a",
   "metadata": {},
   "source": [
    "Em seguida, adicionamos o índice de áreas úmidas, primeiro avaliando onde esse índice é maior que a heterogeneidade da paisagem calculada anteriormente. Nos locais onde os valores do índice de áreas úmidas são maiores que a heterogeneidade da paisagem, os valores são substituídos."
   ]
  },
  {
   "cell_type": "code",
   "execution_count": 6,
   "id": "48067bd0",
   "metadata": {},
   "outputs": [],
   "source": [
    "# testando onde índice de áreas úmidas é maior que a heterogeneidade da paisagem\n",
    "\n",
    "test_2 = wetland_score.gt(landscape_diversity)\n",
    "\n",
    "# Médias para cada teste\n",
    "\n",
    "# Locais que a amplitude altitudinal foi maior que variedade de formas de relevo\n",
    "average_wetland_1 = landform_Z.multiply(2).add(elevation_range_Z).add(wetland_score).divide(4)\n",
    "\n",
    "# Locais onde a amplitude altitudinal não foi maior que variedade de formas de relevo\n",
    "average_wetland_2 = landform_Z.multiply(2).add(wetland_score).divide(3)\n",
    "\n",
    "# Substitua o valor de heterogeneidade da paisagem pelo índice de áreas úmidas\n",
    "\n",
    "landscape_diversity = landscape_diversity.where(test_1.And(test_2), average_wetland_1)\n",
    "\n",
    "landscape_diversity = landscape_diversity.where(test_1.Not().And(test_2), average_wetland_2)"
   ]
  },
  {
   "cell_type": "markdown",
   "id": "953c8181",
   "metadata": {},
   "source": [
    "A inclusão da riqueza de solos é um pouco mais complexa. Testamos onde a riqueza de solos é maior a heterogeneidade da paisagem anterior e substituímos os valores por 4 médias ponderadas diferentes, cada uma representando os passos anteriores. A primeira média é para os locais onde a riqueza de solos é maior que o índice de áreas úmidas, que por sua vez é maior que amplitude altitudinal. Na segunda média, os valores são para as regiões com maior riqueza de solos, mas onde o índice de áreas úmidas é menor que a amplitude altitudinal. A terceira média é para os locais onde a amplitude altitudinal é maior que variedade de formas de relevo, mas o índice de áreas úmidas não adiciona informação. A quarta média é para locais onde somente a riqueza de solos é maior que a variedade de formas de relevo."
   ]
  },
  {
   "cell_type": "code",
   "execution_count": 7,
   "id": "63f5a4f3",
   "metadata": {},
   "outputs": [],
   "source": [
    "# teste onde riqueza de solo é maior que a heterogeneidade da paisagem\n",
    "test_3 = soil_diversity.gt(landscape_diversity)\n",
    "\n",
    "# Calcule as médias ponderadas\n",
    "average_soil_1 = (landform_Z.multiply(2)\n",
    "                 .add(elevation_range_Z)\n",
    "                 .add(wetland_score)\n",
    "                 .add(soil_diversity)\n",
    "                 .divide(5))\n",
    "\n",
    "average_soil_2 = (landform_Z.multiply(2)\n",
    "                 .add(elevation_range_Z)\n",
    "                 .add(soil_diversity)\n",
    "                 .divide(4))\n",
    "\n",
    "average_soil_3 = (landform_Z.multiply(2)\n",
    "                 .add(wetland_score)\n",
    "                 .add(soil_diversity)\n",
    "                 .divide(4))\n",
    "\n",
    "average_soil_4 = (landform_Z.multiply(2)\n",
    "                 .add(soil_diversity)\n",
    "                 .divide(3))\n",
    "\n",
    "# Substitua os valores de heterogeneidade da paisagem pela riqueza de solos\n",
    "\n",
    "landscape_diversity = (landscape_diversity\n",
    "                      .where(test_1.And(test_2).And(test_3), average_soil_1))\n",
    "\n",
    "landscape_diversity = (landscape_diversity\n",
    "                      .where(test_1.And(test_2.Not()).And(test_3), average_soil_2))\n",
    "\n",
    "landscape_diversity = (landscape_diversity\n",
    "                      .where(test_1.Not().And(test_2).And(test_3), average_soil_3))\n",
    "\n",
    "landscape_diversity = (landscape_diversity\n",
    "                      .where(test_1.Not().And(test_2.Not()).And(test_3), average_soil_4))"
   ]
  },
  {
   "cell_type": "markdown",
   "id": "a4bc5c0d",
   "metadata": {},
   "source": [
    " Finalizamos exportando o mapa de heterogeneidade da paisagem como *asset* no *Google Earth Engine*."
   ]
  },
  {
   "cell_type": "code",
   "execution_count": 8,
   "id": "58061ca5",
   "metadata": {},
   "outputs": [],
   "source": [
    "# Exporte o raster de heterogeneidade da paisagem\n",
    "# modifique assetId para o do seu projeto\n",
    "assetId = \"projects/ee-lucasljardim9/assets/landscape_heterogeneity\"\n",
    "\n",
    "geemap.ee_export_image_to_asset(\n",
    "    landscape_diversity, \n",
    "    description='landscape_heterogeneity', \n",
    "    assetId=assetId, \n",
    "    region=regiao_box, \n",
    "    scale=escala,\n",
    "    maxPixels=1e13\n",
    ")"
   ]
  },
  {
   "cell_type": "code",
   "execution_count": null,
   "id": "41311042",
   "metadata": {},
   "outputs": [],
   "source": []
  }
 ],
 "metadata": {
  "kernelspec": {
   "display_name": "Python 3 (ipykernel)",
   "language": "python",
   "name": "python3"
  },
  "language_info": {
   "codemirror_mode": {
    "name": "ipython",
    "version": 3
   },
   "file_extension": ".py",
   "mimetype": "text/x-python",
   "name": "python",
   "nbconvert_exporter": "python",
   "pygments_lexer": "ipython3",
   "version": "3.8.10"
  }
 },
 "nbformat": 4,
 "nbformat_minor": 5
}
