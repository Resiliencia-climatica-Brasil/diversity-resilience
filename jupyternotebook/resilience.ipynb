{
 "cells": [
  {
   "cell_type": "markdown",
   "id": "f2f0dd5a",
   "metadata": {},
   "source": [
    "# Resiliência da paisagem"
   ]
  },
  {
   "cell_type": "markdown",
   "id": "e50e7772",
   "metadata": {},
   "source": [
    "## Importando pacotes e inicializando *geemap*"
   ]
  },
  {
   "cell_type": "code",
   "execution_count": 1,
   "id": "9141ed1d",
   "metadata": {},
   "outputs": [],
   "source": [
    "import os\n",
    "import ee\n",
    "import geemap\n",
    "import geemap.colormaps as cm"
   ]
  },
  {
   "cell_type": "code",
   "execution_count": 2,
   "id": "97bde6c9",
   "metadata": {},
   "outputs": [],
   "source": [
    "geemap.ee_initialize()"
   ]
  },
  {
   "cell_type": "markdown",
   "id": "6faea6a9",
   "metadata": {},
   "source": [
    "A resiliência da paisagem é classificada pela heterogeneidade da paisagem e conectividade local [@anderson_resilient_2016]. Modificamos a metodologia original de média das métricas pela classificação pelos quantis das duas variáveis. Classificamos as métricas por quantis e atribuímos classes para as combinações de quantis de heterogeneidade da paisagem e conectividade local de cada célula. Por exemplo, células com alta heterogeneidade local (quantil superior)  e alta conectividade local (quantil superior) são áreas com alta resiliência. Por outro lado, locais com baixa conectividade local e heterogeneidade da paisagem possuem baixa resiliência. Nas classes intermediárias estão as células com alta heterogeneidade da paisagem e baixa conectividadel local, e as células com alta conectividade local e baixa heterogeneidade da paisagem. "
   ]
  },
  {
   "cell_type": "markdown",
   "id": "10dbed7e",
   "metadata": {},
   "source": [
    "## Base de dados\n",
    "\n",
    "Os dados utilizados para calcular a resiliência da paisagem são os mapa de heterogeneidade da paisagem e a conectividade local criados anteriormente."
   ]
  },
  {
   "cell_type": "markdown",
   "id": "15af3a53",
   "metadata": {},
   "source": [
    "## Códigos para a criação da resiliência da paisagem\n",
    "\n",
    "As análises foram rodadas no *Google Earth Engine* [@gorelick_google_2017], devido a demanda computacional do projeto, usando o pacote **geemap** [@wu_geemap_2020] em *Python* [@python_software_foundation_python_2023] como interface pela facilidade na documentação e reprodutividade das análises. O JupyterNotebook para a reprodução das análises pode ser encontrado em [https://github.com/Resiliencia-climatica-Brasil/diversity-resilience-python/blob/master/jupyternotebook/7_resilience.ipynb](https://github.com/Resiliencia-climatica-Brasil/diversity-resilience-python/blob/master/jupyternotebook/7_resilience.ipynb)."
   ]
  },
  {
   "cell_type": "markdown",
   "id": "b517c1a8",
   "metadata": {},
   "source": [
    "Primeiro, importamos o polígono de biomas do Brasil para extraímos as coordenadas geográficas mínimas e máximas. Extraímos também a escala do modelo digital de elevação que usamos nas análises anteriores."
   ]
  },
  {
   "cell_type": "code",
   "execution_count": 13,
   "id": "68d43e74",
   "metadata": {},
   "outputs": [],
   "source": [
    "# Importando o polígono de bioma para definir as \n",
    "# coordenadas máximas e mínimas do Brasil\n",
    "\n",
    "regiao = ee.FeatureCollection(\"projects/ee-lucasljardim9/assets/Biome\")\n",
    "\n",
    "# ModeloDigital de Elevação para extrair a resolução\n",
    "DEM = ee.Image(\"MERIT/DEM/v1_0_3\")\n",
    "\n",
    "# função para extrair as bordas dos polígonos\n",
    "def func_cmp(feature):\n",
    "    return feature.bounds() \n",
    "\n",
    "# Extraindo as coordenadas mínimas e máximas do Brasil\n",
    "regiao_box = regiao.map(func_cmp).geometry().dissolve(**{'maxError': 1}).bounds()\n",
    "\n",
    "# Resolução das análises\n",
    "escala = DEM.projection().nominalScale()"
   ]
  },
  {
   "cell_type": "markdown",
   "id": "599354c5",
   "metadata": {},
   "source": [
    "Importamos os mapas de heterogeneidade da paisagem e conectividade local."
   ]
  },
  {
   "cell_type": "code",
   "execution_count": 14,
   "id": "c9bc7994",
   "metadata": {},
   "outputs": [],
   "source": [
    "# modifique os endereços para os do seu projeto\n",
    "\n",
    "local_connectedness = ee.Image(\"projects/ee-lucasljardim9/assets/local_connectedness\")\n",
    "\n",
    "landscape_heterogeneity = ee.Image(\"projects/ee-lucasljardim9/assets/landscape_heterogeneity\")"
   ]
  },
  {
   "cell_type": "markdown",
   "id": "5ac1888e",
   "metadata": {},
   "source": [
    "Calculamos os quantis de 25, 50, 75% da heterogeneidade da paisagem e conectividade local."
   ]
  },
  {
   "cell_type": "code",
   "execution_count": 15,
   "id": "4a7e3139",
   "metadata": {},
   "outputs": [],
   "source": [
    "# Heterogeneidade da paisagem\n",
    "quartiles_Div = landscape_heterogeneity.reduceRegion(**{\n",
    "    'reducer': ee.Reducer.percentile([25, 50, 75]), \n",
    "    'scale': escala,\n",
    "    'maxPixels':1e13,\n",
    "    'bestEffort': False\n",
    "  })\n",
    "\n",
    "# Extraímos os valores do quantis\n",
    "div_25 = quartiles_Div.getNumber('z_p25')\n",
    "div_50 = quartiles_Div.getNumber('z_p50')\n",
    "div_75 = quartiles_Div.getNumber('z_p75')\n",
    "\n",
    "# Conectividade local\n",
    "quartiles_Con = local_connectedness.reduceRegion(**{\n",
    "    'reducer': ee.Reducer.percentile([25, 50, 75]), \n",
    "    'scale': escala,\n",
    "    'maxPixels':1e13,\n",
    "    'bestEffort': False\n",
    "  })\n",
    "\n",
    "# Extraímos os valores do quantis\n",
    "con_25 = quartiles_Con.getNumber('b1_p25')\n",
    "con_50 = quartiles_Con.getNumber('b1_p50')\n",
    "con_75 = quartiles_Con.getNumber('b1_p75')"
   ]
  },
  {
   "cell_type": "markdown",
   "id": "6133a26c",
   "metadata": {},
   "source": [
    "Classificamos a heterogeneidade da paisagem e conectividade local pelos quantis."
   ]
  },
  {
   "cell_type": "code",
   "execution_count": 16,
   "id": "461e8004",
   "metadata": {},
   "outputs": [],
   "source": [
    "class_div = (landscape_heterogeneity\n",
    "             .where(landscape_heterogeneity.lt(div_25), 1)  \n",
    "             .where(landscape_heterogeneity.gte(div_25).And(landscape_heterogeneity.lt(div_50)), 2)\n",
    "             .where(landscape_heterogeneity.gte(div_50).And(landscape_heterogeneity.lt(div_75)), 3)\n",
    "             .where(landscape_heterogeneity.gte(div_75).And(landscape_heterogeneity), 4))\n",
    "\n",
    "\n",
    "class_con = (local_connectedness\n",
    "             .where(local_connectedness.lt(con_25),10)\n",
    "             .where(local_connectedness.gte(con_25).And(local_connectedness.lt(con_50)), 20)\n",
    "             .where(local_connectedness.gte(con_50).And(local_connectedness.lt(con_75)),30)\n",
    "             .where(local_connectedness.gte(con_75).And(local_connectedness), 40))"
   ]
  },
  {
   "cell_type": "markdown",
   "id": "57bf5786",
   "metadata": {},
   "source": [
    "Somamos os mapas de heterogeneidade da paisagem e conectividade local classificados para atribuirmos as classes de resiliência. "
   ]
  },
  {
   "cell_type": "code",
   "execution_count": 17,
   "id": "aad2d300",
   "metadata": {},
   "outputs": [],
   "source": [
    "resilience = class_div.add(class_con)"
   ]
  },
  {
   "cell_type": "markdown",
   "id": "0a7c17e9",
   "metadata": {},
   "source": [
    "Exportamos o mapa de resiliência como um *asset* no *Google Earth Engine*."
   ]
  },
  {
   "cell_type": "code",
   "execution_count": 23,
   "id": "8ba88bba",
   "metadata": {},
   "outputs": [],
   "source": [
    "# Exporte o raster de resiliência\n",
    "# modifique o assetId para o do seu projeto\n",
    "\n",
    "assetId = \"projects/ee-lucasljardim9/assets/resilience\"\n",
    "\n",
    "geemap.ee_export_image_to_asset(\n",
    "    resilience, \n",
    "    description='resilience', \n",
    "    assetId=assetId, \n",
    "    region=regiao_box, \n",
    "    scale=escala,\n",
    "    maxPixels=1e13\n",
    ")"
   ]
  },
  {
   "cell_type": "markdown",
   "id": "aabfd711",
   "metadata": {},
   "source": [
    "O dado pode ser visualizado abaixo:"
   ]
  },
  {
   "cell_type": "code",
   "execution_count": 7,
   "id": "d3da1ebc",
   "metadata": {},
   "outputs": [
    {
     "data": {
      "application/vnd.jupyter.widget-view+json": {
       "model_id": "6fb41d092a0b4dbc983d1d19f71b662c",
       "version_major": 2,
       "version_minor": 0
      },
      "text/plain": [
       "Map(center=[-11.75, -51.52], controls=(WidgetControl(options=['position', 'transparent_bg'], widget=HBox(child…"
      ]
     },
     "metadata": {},
     "output_type": "display_data"
    }
   ],
   "source": [
    "# Paleta de cores\n",
    "\n",
    "sld_intervals =(\n",
    "  '<RasterSymbolizer>' + \\\n",
    "    '<ColorMap type=\"intervals\" extended=\"False\">' + \\\n",
    "      '<ColorMapEntry color=\"#d3d3d3\" quantity=\"11\" label=\"11\"/>' + \\\n",
    "      '<ColorMapEntry color=\"#95bdd5\" quantity=\"12\" label=\"12\"/>' + \\\n",
    "      '<ColorMapEntry color=\"#52a6d7\" quantity=\"13\" label=\"13\"/>' + \\\n",
    "      '<ColorMapEntry color=\"#0088d9\" quantity=\"14\" label=\"14\"/>' + \\\n",
    "      '<ColorMapEntry color=\"#d5ce9c\" quantity=\"21\" label=\"21\"/>' + \\\n",
    "      '<ColorMapEntry color=\"#96b89e\" quantity=\"22\" label=\"22\"/>' + \\\n",
    "      '<ColorMapEntry color=\"#53a19f\" quantity=\"23\" label=\"23\"/>' + \\\n",
    "      '<ColorMapEntry color=\"#0085a1\" quantity=\"24\" label=\"24\"/>' + \\\n",
    "      '<ColorMapEntry color=\"#d7c759\" quantity=\"31\" label=\"31\"/>' + \\\n",
    "      '<ColorMapEntry color=\"#98b35a\" quantity=\"32\" label=\"32\"/>' + \\\n",
    "      '<ColorMapEntry color=\"#539c5b\" quantity=\"33\" label=\"33\"/>' + \\\n",
    "      '<ColorMapEntry color=\"#00815c\" quantity=\"34\" label=\"34\"/>' + \\\n",
    "      '<ColorMapEntry color=\"#d9be00\" quantity=\"41\" label=\"41\"/>' + \\\n",
    "      '<ColorMapEntry color=\"#9aaa00\" quantity=\"42\" label=\"42\"/>' + \\\n",
    "      '<ColorMapEntry color=\"#549500\" quantity=\"43\" label=\"43\"/>' + \\\n",
    "      '<ColorMapEntry color=\"#007b00\" quantity=\"44\" label=\"44\"/>' + \\\n",
    "    '</ColorMap>' + \\\n",
    "  '</RasterSymbolizer>')\n",
    "\n",
    "# Centralize o mapa\n",
    "\n",
    "Map = geemap.Map(center=(-11.75, -51.52), zoom=4)\n",
    "\n",
    "# Importe os assets\n",
    "\n",
    "resilience = ee.Image(\"projects/ee-lucasljardim9/assets/resilience\")\n",
    "\n",
    "\n",
    "# Plote o mapa\n",
    "\n",
    "Map.addLayer(resilience.sldStyle(sld_intervals)) \n",
    "\n",
    "\n",
    "Map"
   ]
  },
  {
   "cell_type": "code",
   "execution_count": null,
   "id": "e450d4e2",
   "metadata": {},
   "outputs": [],
   "source": []
  }
 ],
 "metadata": {
  "kernelspec": {
   "display_name": "Python 3 (ipykernel)",
   "language": "python",
   "name": "python3"
  },
  "language_info": {
   "codemirror_mode": {
    "name": "ipython",
    "version": 3
   },
   "file_extension": ".py",
   "mimetype": "text/x-python",
   "name": "python",
   "nbconvert_exporter": "python",
   "pygments_lexer": "ipython3",
   "version": "3.8.10"
  }
 },
 "nbformat": 4,
 "nbformat_minor": 5
}
