{
 "cells": [
  {
   "cell_type": "markdown",
   "id": "c56ef7fb",
   "metadata": {},
   "source": [
    "# Índice de áreas úmidas"
   ]
  },
  {
   "cell_type": "markdown",
   "id": "7589cedf",
   "metadata": {},
   "source": [
    "## Importando pacotes e inicializando *geemap*"
   ]
  },
  {
   "cell_type": "code",
   "execution_count": 2,
   "id": "b3702769",
   "metadata": {},
   "outputs": [],
   "source": [
    "import os\n",
    "import ee\n",
    "import geemap\n",
    "import geemap.colormaps as cm"
   ]
  },
  {
   "cell_type": "code",
   "execution_count": 3,
   "id": "eae9f880",
   "metadata": {},
   "outputs": [],
   "source": [
    "geemap.ee_initialize()"
   ]
  },
  {
   "cell_type": "markdown",
   "id": "fa9a5a53",
   "metadata": {},
   "source": [
    "O índice de áreas úmidas é uma combinação da densidade de áreas úmidas localmente com a densidade e quantidade de áreas úmidas regionalmente. O índice de áreas úmidas entra no cálculo da diversidade da paisagem em locais planos e úmidos, com baixa variedade de formas de relevo e baixa amplitude altitudinal. Nesses locais a variação microclimática seria baixa devido a baixa variabilidade topográfica e geomorfológica, mas como há alta densidade de áreas úmidas, esses locais atuam regulando a variabilidade microclimática localmente [@anderson_resilient_2016].\n",
    "\n",
    "Existem três cenários de distribuição de áreas úmidas:\n",
    "\n",
    "* (1) Os locais estão presentes em áreas com alta densidade de áreas úmidas no entorno,\n",
    "* (2) Os locais estão situados em áreas com baixa densidade de áreas úmidas localmente, mas alta densidade regionalmente,\n",
    "* (3) Os locais estão presentes em áreas com alta quantidade de áreas úmidas, mas baixa densidade devido a sua distribuição espacial. \n",
    "\n",
    "Dessa forma, o índice de áreas úmidas é composto pelos três cenários citados anteriormente, primeiro é calculado a densidade local, regional e a quantidade regional e, para cada métrica, é calculado um valor de Z, subtraindo pela média e dividindo pelo desvio padrão. A densidade de áreas úmidas é a média ponderada dos valores de Z da densidade local e regional (peso duplo para a densidade local). Nos locais onde os valores de Z da quantidade de áreas úmidas regional é maior que a densidade média calculada anteriormente, o índice torna-se a média ponderada da densidade local, densidade regional e quantidade de áreas úmidas regional (duplo peso para a densidade local) [@anderson_resilient_2016].   \n"
   ]
  },
  {
   "cell_type": "markdown",
   "id": "60a08824",
   "metadata": {},
   "source": [
    "$$\n",
    "\\tiny\n",
    "índice\\ de\\ áreas\\ úmidas = \n",
    "  \\begin{cases}  \n",
    "    \\frac{2 \\times densidade_{local}(Z) + densidade_{regional}(Z)}{3} & \\text{se densidade média é maior ou igual à quantidade regional}\\\\\n",
    "    \\frac{2 \\times densidade_{local}(Z) + densidade_{regional}(Z) + quantidade_{regional}(Z)}{4}& \\text {se a quantidade regional for maior a densidade média}\n",
    "  \\end{cases}\n",
    "$$"
   ]
  },
  {
   "cell_type": "markdown",
   "id": "dad34261",
   "metadata": {},
   "source": [
    "Neste capítulo demonstraremos como as densidades e a quantidade de áreas úmidas foram calculadas e no capítulo [Z_scores](https://resiliencia-climatica-brasil.github.io/diversity-resilience-python/5_Z_scores.html) mostraremos como calculamos os valores de Z e o índice de áreas úmidas. "
   ]
  },
  {
   "cell_type": "markdown",
   "id": "18062607",
   "metadata": {},
   "source": [
    "## Banco de dados\n",
    "\n",
    "Utilizamos como base de dados de áreas úmidas o *Global Wetlands database* [@gumbricht_tropical_2017]. Reprojetamos o *raster* de áreas úmidas para a mesma resolução do modelo digital de elevação usado nas etapas anteriores (~ 92 metros)."
   ]
  },
  {
   "cell_type": "markdown",
   "id": "7e8179b2",
   "metadata": {},
   "source": [
    "Retiramos as áreas úmidas classificadas como sistemas lacustres e ribeirinhos (*riverines* e *lacustrines*) e reclassificamos o *raster* como sendo área úmida (1) ou não sendo área úmida (0). Depois, calculamos a densidade de áreas úmidas dentro de uma vizinhaça de 450 metros (5 células) de raio de um *kernel* circular (densidade local). Calculamos também a densidade e a quantidade de áreas úmidas na vizinhança de ~ 1170 metros (13 células) (regional).\n"
   ]
  },
  {
   "cell_type": "markdown",
   "id": "6ef12879",
   "metadata": {},
   "source": [
    "## Código para calcular as densidades e quantidade de áreas úmidas"
   ]
  },
  {
   "cell_type": "markdown",
   "id": "d5ace98c",
   "metadata": {},
   "source": [
    "As análises foram rodadas no *Google Earth Engine* [@gorelick_google_2017], devido a demanda computacional do projeto, usando o pacote **geemap** [@wu_geemap_2020] em *Python* [@python_software_foundation_python_2023] como interface pela facilidade na documentação e reprodutividade das análises. O JupyterNotebook para reprodução das análises pode ser encontrado em [https://github.com/Resiliencia-climatica-Brasil/diversity-resilience-python/blob/master/jupyternotebook/3_wetland_score.ipynb](https://github.com/Resiliencia-climatica-Brasil/diversity-resilience-python/blob/master/jupyternotebook/3_wetland_score.ipynb).\n"
   ]
  },
  {
   "cell_type": "markdown",
   "id": "048f3f4a",
   "metadata": {},
   "source": [
    "Primeiro, nós importamos os polígonos dos biomas do Brasil e extraímos suas coordenadas geográficas máximas e mínimas para delimitar a região de análise. Importamos o modelo digital de elevação e o *raster* de áreas úmidas e reprojetamos a resolução das áreas úmidas para a resolução do modelo digital de elevação.  "
   ]
  },
  {
   "cell_type": "code",
   "execution_count": 3,
   "id": "780c6cfa",
   "metadata": {},
   "outputs": [],
   "source": [
    "# Importando mapa de biomas do IBGE para extrair as coordenadas \n",
    "# mínimas e máximas do Brasil\n",
    "regiao = ee.FeatureCollection(\"projects/ee-lucasljardim9/assets/Biome\")\n",
    "\n",
    "def func_cmp(feature):\n",
    "    return feature.bounds() \n",
    "\n",
    "# Extraindo as coordenadas mínimas e máximas do Brasil\n",
    "regiao_box = regiao.map(func_cmp).geometry().dissolve(**{'maxError': 1}).bounds()\n",
    "\n",
    "# Extraindo a resolução do mapa\n",
    "DEM = ee.Image(\"MERIT/DEM/v1_0_3\") \n",
    "\n",
    "escala = DEM.projection().nominalScale()\n",
    "\n",
    "# Reprojetando áreas úmidas\n",
    "wetlands = (ee.Image(\"projects/ee-lucasljardim9/assets/Cifor_wetlands\") \n",
    "            .reproject(**{'crs': \"EPSG:4326\",\n",
    "                       'scale': escala}))"
   ]
  },
  {
   "cell_type": "markdown",
   "id": "bb1053d2",
   "metadata": {},
   "source": [
    "Em seguida, retiramos os sistemas ribeirinhos e lacustres do *raster* de áreas úmidas e reclassificamos as classes do raster em presença e ausência de áreas úmidas. "
   ]
  },
  {
   "cell_type": "code",
   "execution_count": 4,
   "id": "7d1014b8",
   "metadata": {},
   "outputs": [],
   "source": [
    "# Criando uma máscara para rios e lagos\n",
    "\n",
    "rivers = wetlands.mask(wetlands.neq(10))\n",
    "\n",
    "# Retirando rios e lagos das áreas úmidas\n",
    "\n",
    "wetlands = wetlands.mask(rivers)\n",
    "\n",
    "# Transformando áreas úmidas em um raster binário\n",
    "# de presença de áreas úmidas\n",
    "\n",
    "wetlands_binary = wetlands.where(wetlands.gt(0), 1).unmask()"
   ]
  },
  {
   "cell_type": "markdown",
   "id": "a6bbd288",
   "metadata": {},
   "source": [
    "Posteriomente, calculamos a densidade de áreas úmidas, localmente, dentro de um *kernel* circular de ~450 metros (5 células). Primeiro, transformamos as células da vizinhança de cada célula focal em bandas de uma imagem. Assim, cada células vizinha da célula focal fica empilhada como uma coluna. Para cada coluna, somamos os valores das células (0 ou 1) como a quantidade de áreas úmidas na vizinhança. Depois, dividimos a quantidade de áreas úmidas pelo número de células na vizinhança, resultando na densidade de áreas úmidas."
   ]
  },
  {
   "cell_type": "code",
   "execution_count": 5,
   "id": "2b93c84f",
   "metadata": {},
   "outputs": [],
   "source": [
    "radius_pixels = 5\n",
    "\n",
    "# Tranforme as células da vizinha em bandas\n",
    "\n",
    "neighbors = (wetlands_binary\n",
    "            .neighborhoodToBands(ee.Kernel.circle(ee.Number(radius_pixels))))\n",
    "\n",
    "# Conte a quantidade de áreas úmidas na vizinhança\n",
    "wetlands_count = neighbors.reduce(ee.Reducer.sum()).toDouble()\n",
    "\n",
    "# Conte o número de células totais na vizinhança\n",
    "\n",
    "neighbors_amount = neighbors.bandNames().length()\n",
    "\n",
    "#Divida a quantidade de áreas úmidas pelo \n",
    "# número de células para calcular a densidade \n",
    "wetlands_density_local = wetlands_count.divide(ee.Number(neighbors_amount))"
   ]
  },
  {
   "cell_type": "markdown",
   "id": "61afc199",
   "metadata": {},
   "source": [
    "Repetimos o mesmo procedimento conduzido para a densidade local para calcularmos a densidade e quantidade de áreas úmidas regional."
   ]
  },
  {
   "cell_type": "code",
   "execution_count": 6,
   "id": "232f4254",
   "metadata": {},
   "outputs": [],
   "source": [
    "radius_pixels = 13\n",
    "\n",
    "# Transforme as células vizinhas em bandas\n",
    "\n",
    "neighbors = (wetlands_binary\n",
    "           .neighborhoodToBands(ee.Kernel.circle(\n",
    "                                   ee.Number(radius_pixels)\n",
    "                                   )\n",
    "                               ))\n",
    "\n",
    "# Conte a quantidade de áreas úmidas\n",
    "wetlands_count = neighbors.reduce(ee.Reducer.sum()).toDouble()\n",
    "\n",
    "# Conte o número de células totais na vizinhança\n",
    "neighbors_amount = neighbors.bandNames().length()\n",
    "\n",
    "# Calcule a densidade dividindo a quantidade \n",
    "# de áreas úmidas pelo número de células\n",
    "wetlands_density_regional = wetlands_count.divide(ee.Number(neighbors_amount))"
   ]
  },
  {
   "cell_type": "markdown",
   "id": "aa16b267",
   "metadata": {},
   "source": [
    "Por fim, exportamos a densidade de áreas úmidas local (*wetlands_density*), a densidade regional (*wetlands_density_1000*) e a quantidade regional (*wetlands_count*) como *assets* no *Google Earth Engine*."
   ]
  },
  {
   "cell_type": "code",
   "execution_count": 7,
   "id": "edec823d",
   "metadata": {},
   "outputs": [],
   "source": [
    "# modifique os assetIds para os do seu projeto\n",
    "\n",
    "assetId_quantidade = \"projects/ee-lucasljardim9/assets/wetlands_count\"\n",
    "\n",
    "assetId_densidade_local = \"projects/ee-lucasljardim9/assets/wetlands_density\"\n",
    "\n",
    "assetId_densidade_regional = \"projects/ee-lucasljardim9/assets/wetlands_density_1000\"\n",
    "\n",
    "geemap.ee_export_image_to_asset(\n",
    "    wetlands_count, \n",
    "    description='wetlands_count', \n",
    "    assetId=assetId_quantidade, \n",
    "    region=regiao_box, \n",
    "    scale=escala, maxPixels=1e13\n",
    ")\n",
    "\n",
    "geemap.ee_export_image_to_asset(\n",
    "    wetlands_density_local, \n",
    "    description='wetlands_density_local', \n",
    "    assetId=assetId_densidade_local, \n",
    "    region=regiao_box, \n",
    "    scale=escala, maxPixels=1e13\n",
    ")\n",
    "\n",
    "geemap.ee_export_image_to_asset(\n",
    "    wetlands_density_regional, \n",
    "    description='wetlands_density_regional', \n",
    "    assetId=assetId_densidade_regional, \n",
    "    region=regiao_box, \n",
    "    scale=escala, maxPixels=1e13\n",
    ")"
   ]
  },
  {
   "cell_type": "markdown",
   "id": "b5164fa2",
   "metadata": {},
   "source": [
    "Os dados criados podem ser visualizados como abaixo:"
   ]
  },
  {
   "cell_type": "code",
   "execution_count": 9,
   "id": "6a724851",
   "metadata": {},
   "outputs": [
    {
     "data": {
      "application/vnd.jupyter.widget-view+json": {
       "model_id": "a44ea0c48571425ebe2f0085db9bbe07",
       "version_major": 2,
       "version_minor": 0
      },
      "text/plain": [
       "Map(center=[-11.75, -51.52], controls=(WidgetControl(options=['position', 'transparent_bg'], widget=HBox(child…"
      ]
     },
     "metadata": {},
     "output_type": "display_data"
    }
   ],
   "source": [
    "# Paleta de cores\n",
    "\n",
    "palette = cm.get_palette('terrain', n_class=10)\n",
    "\n",
    "# Centralize o mapa\n",
    "\n",
    "Map = geemap.Map(center=(-11.75, -51.52), zoom=4)\n",
    "\n",
    "# Importe os assets\n",
    "\n",
    "wetlands_count = ee.Image(\"projects/ee-lucasljardim9/assets/wetlands_count\")\n",
    "\n",
    "wetlands_density_local = ee.Image(\"projects/ee-lucasljardim9/assets/wetlands_density\")\n",
    "\n",
    "wetlands_density_regional = ee.Image(\"projects/ee-lucasljardim9/assets/wetlands_density_1000\")\n",
    "\n",
    "\n",
    "# Plote o mapa\n",
    "\n",
    "Map.addLayer(wetlands_count, {'palette':palette, 'min':0, 'max': 1}, \"wetlands count\") \n",
    "Map.addLayer(wetlands_density_local, {'palette':palette, 'min':0, 'max': 1}, \"local density\") \n",
    "Map.addLayer(wetlands_density_regional, {'palette':palette, 'min':0, 'max': 1}, \"regional density\") \n",
    "\n",
    "\n",
    "\n",
    "Map"
   ]
  }
 ],
 "metadata": {
  "kernelspec": {
   "display_name": "Python 3 (ipykernel)",
   "language": "python",
   "name": "python3"
  },
  "language_info": {
   "codemirror_mode": {
    "name": "ipython",
    "version": 3
   },
   "file_extension": ".py",
   "mimetype": "text/x-python",
   "name": "python",
   "nbconvert_exporter": "python",
   "pygments_lexer": "ipython3",
   "version": "3.8.10"
  }
 },
 "nbformat": 4,
 "nbformat_minor": 5
}
